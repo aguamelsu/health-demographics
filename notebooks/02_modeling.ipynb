{
 "cells": [
  {
   "cell_type": "markdown",
   "id": "ae15e882",
   "metadata": {},
   "source": [
    "# Demographic Health Prediction (Linear Regression)"
   ]
  },
  {
   "cell_type": "code",
   "execution_count": 46,
   "id": "0684c34c",
   "metadata": {},
   "outputs": [],
   "source": [
    "import pandas as pd\n",
    "import numpy as np\n",
    "import matplotlib.pyplot as plt\n",
    "import seaborn as sns\n",
    "from sklearn.model_selection import train_test_split\n",
    "from sklearn.linear_model import LinearRegression, Lasso, Ridge\n",
    "from sklearn.metrics import r2_score, mean_squared_error, mean_absolute_error\n",
    "from pickle import dump"
   ]
  },
  {
   "cell_type": "code",
   "execution_count": 8,
   "id": "df41c94e",
   "metadata": {},
   "outputs": [
    {
     "data": {
      "text/html": [
       "<div>\n",
       "<style scoped>\n",
       "    .dataframe tbody tr th:only-of-type {\n",
       "        vertical-align: middle;\n",
       "    }\n",
       "\n",
       "    .dataframe tbody tr th {\n",
       "        vertical-align: top;\n",
       "    }\n",
       "\n",
       "    .dataframe thead th {\n",
       "        text-align: right;\n",
       "    }\n",
       "</style>\n",
       "<table border=\"1\" class=\"dataframe\">\n",
       "  <thead>\n",
       "    <tr style=\"text-align: right;\">\n",
       "      <th></th>\n",
       "      <th>unemployment_rate_2018</th>\n",
       "      <th>%_white-alone</th>\n",
       "      <th>%_black-alone</th>\n",
       "      <th>r_death_2018</th>\n",
       "      <th>r_natural_inc_2018</th>\n",
       "      <th>percent_of_adults_with_less_than_a_high_school_diploma_2014-18</th>\n",
       "      <th>percent_of_adults_with_a_high_school_diploma_only_2014-18</th>\n",
       "      <th>percent_of_adults_with_a_bachelor's_degree_or_higher_2014-18</th>\n",
       "      <th>pctpovall_2018</th>\n",
       "      <th>pctpov017_2018</th>\n",
       "      <th>pctpov517_2018</th>\n",
       "      <th>medhhinc_2018</th>\n",
       "      <th>med_hh_income_percent_of_state_total_2018</th>\n",
       "      <th>active_primary_care_physicians_per_100000_population_2018_(aamc)</th>\n",
       "      <th>active_patient_care_primary_care_physicians_per_100000_population_2018_(aamc)</th>\n",
       "      <th>diabetes_prevalence</th>\n",
       "    </tr>\n",
       "  </thead>\n",
       "  <tbody>\n",
       "    <tr>\n",
       "      <th>2011</th>\n",
       "      <td>-1.019007</td>\n",
       "      <td>0.752486</td>\n",
       "      <td>-0.619962</td>\n",
       "      <td>0.236206</td>\n",
       "      <td>-0.197785</td>\n",
       "      <td>-0.001623</td>\n",
       "      <td>0.252271</td>\n",
       "      <td>-0.548417</td>\n",
       "      <td>-0.368536</td>\n",
       "      <td>-0.360007</td>\n",
       "      <td>-0.328462</td>\n",
       "      <td>-0.188848</td>\n",
       "      <td>-0.626252</td>\n",
       "      <td>-0.076298</td>\n",
       "      <td>-0.045207</td>\n",
       "      <td>12.6</td>\n",
       "    </tr>\n",
       "    <tr>\n",
       "      <th>2906</th>\n",
       "      <td>0.178778</td>\n",
       "      <td>0.624549</td>\n",
       "      <td>-0.422349</td>\n",
       "      <td>1.910865</td>\n",
       "      <td>-1.677052</td>\n",
       "      <td>0.850537</td>\n",
       "      <td>0.280080</td>\n",
       "      <td>-0.665031</td>\n",
       "      <td>0.495937</td>\n",
       "      <td>0.336004</td>\n",
       "      <td>0.298165</td>\n",
       "      <td>-0.768967</td>\n",
       "      <td>-1.559656</td>\n",
       "      <td>0.186315</td>\n",
       "      <td>0.155059</td>\n",
       "      <td>13.5</td>\n",
       "    </tr>\n",
       "    <tr>\n",
       "      <th>2851</th>\n",
       "      <td>-1.019007</td>\n",
       "      <td>0.379235</td>\n",
       "      <td>-0.327318</td>\n",
       "      <td>-0.843018</td>\n",
       "      <td>0.615811</td>\n",
       "      <td>-0.317238</td>\n",
       "      <td>-0.234382</td>\n",
       "      <td>0.691933</td>\n",
       "      <td>-1.330875</td>\n",
       "      <td>-1.269311</td>\n",
       "      <td>-1.205741</td>\n",
       "      <td>1.791839</td>\n",
       "      <td>0.873153</td>\n",
       "      <td>0.186315</td>\n",
       "      <td>0.155059</td>\n",
       "      <td>10.4</td>\n",
       "    </tr>\n",
       "    <tr>\n",
       "      <th>1884</th>\n",
       "      <td>0.045690</td>\n",
       "      <td>0.553125</td>\n",
       "      <td>-0.431607</td>\n",
       "      <td>-0.284799</td>\n",
       "      <td>-0.099167</td>\n",
       "      <td>-0.443484</td>\n",
       "      <td>0.043706</td>\n",
       "      <td>0.077059</td>\n",
       "      <td>-0.906794</td>\n",
       "      <td>-0.730464</td>\n",
       "      <td>-0.784191</td>\n",
       "      <td>0.600536</td>\n",
       "      <td>0.044012</td>\n",
       "      <td>1.984816</td>\n",
       "      <td>1.404341</td>\n",
       "      <td>12.3</td>\n",
       "    </tr>\n",
       "    <tr>\n",
       "      <th>378</th>\n",
       "      <td>-0.287028</td>\n",
       "      <td>-0.022259</td>\n",
       "      <td>0.237686</td>\n",
       "      <td>1.017714</td>\n",
       "      <td>-0.888110</td>\n",
       "      <td>0.803195</td>\n",
       "      <td>0.697212</td>\n",
       "      <td>-0.728639</td>\n",
       "      <td>0.675357</td>\n",
       "      <td>0.796269</td>\n",
       "      <td>0.867826</td>\n",
       "      <td>-1.024185</td>\n",
       "      <td>-0.988690</td>\n",
       "      <td>-0.092214</td>\n",
       "      <td>0.002475</td>\n",
       "      <td>14.5</td>\n",
       "    </tr>\n",
       "    <tr>\n",
       "      <th>3111</th>\n",
       "      <td>-1.085551</td>\n",
       "      <td>0.674969</td>\n",
       "      <td>-0.553125</td>\n",
       "      <td>-0.656945</td>\n",
       "      <td>0.024105</td>\n",
       "      <td>-1.295644</td>\n",
       "      <td>-0.554182</td>\n",
       "      <td>0.967567</td>\n",
       "      <td>-1.738646</td>\n",
       "      <td>-1.819384</td>\n",
       "      <td>-1.775402</td>\n",
       "      <td>1.656284</td>\n",
       "      <td>1.751944</td>\n",
       "      <td>0.528508</td>\n",
       "      <td>0.603275</td>\n",
       "      <td>8.8</td>\n",
       "    </tr>\n",
       "    <tr>\n",
       "      <th>1630</th>\n",
       "      <td>0.045690</td>\n",
       "      <td>0.686231</td>\n",
       "      <td>-0.645373</td>\n",
       "      <td>-3.113111</td>\n",
       "      <td>0.295304</td>\n",
       "      <td>-1.926874</td>\n",
       "      <td>0.864064</td>\n",
       "      <td>0.787345</td>\n",
       "      <td>0.169721</td>\n",
       "      <td>1.166726</td>\n",
       "      <td>0.856433</td>\n",
       "      <td>-0.845554</td>\n",
       "      <td>-0.755339</td>\n",
       "      <td>0.281811</td>\n",
       "      <td>0.755859</td>\n",
       "      <td>11.3</td>\n",
       "    </tr>\n",
       "    <tr>\n",
       "      <th>2994</th>\n",
       "      <td>1.310019</td>\n",
       "      <td>0.726506</td>\n",
       "      <td>-0.543633</td>\n",
       "      <td>1.017714</td>\n",
       "      <td>-1.331889</td>\n",
       "      <td>-0.727537</td>\n",
       "      <td>1.030917</td>\n",
       "      <td>-0.230379</td>\n",
       "      <td>-0.238050</td>\n",
       "      <td>-0.180391</td>\n",
       "      <td>-0.123384</td>\n",
       "      <td>-0.318219</td>\n",
       "      <td>1.012171</td>\n",
       "      <td>0.966196</td>\n",
       "      <td>0.889370</td>\n",
       "      <td>15.0</td>\n",
       "    </tr>\n",
       "    <tr>\n",
       "      <th>566</th>\n",
       "      <td>1.709280</td>\n",
       "      <td>0.554622</td>\n",
       "      <td>-0.598835</td>\n",
       "      <td>0.496709</td>\n",
       "      <td>-0.986727</td>\n",
       "      <td>-0.459265</td>\n",
       "      <td>0.071515</td>\n",
       "      <td>-0.495411</td>\n",
       "      <td>0.055545</td>\n",
       "      <td>0.234970</td>\n",
       "      <td>0.172840</td>\n",
       "      <td>-0.456651</td>\n",
       "      <td>-0.288637</td>\n",
       "      <td>-1.118791</td>\n",
       "      <td>-1.065613</td>\n",
       "      <td>14.0</td>\n",
       "    </tr>\n",
       "    <tr>\n",
       "      <th>456</th>\n",
       "      <td>-0.486658</td>\n",
       "      <td>-0.297821</td>\n",
       "      <td>0.510601</td>\n",
       "      <td>-0.135940</td>\n",
       "      <td>-0.616911</td>\n",
       "      <td>-0.664414</td>\n",
       "      <td>-1.499680</td>\n",
       "      <td>0.882756</td>\n",
       "      <td>-1.053591</td>\n",
       "      <td>-0.932532</td>\n",
       "      <td>-0.886730</td>\n",
       "      <td>1.576245</td>\n",
       "      <td>1.885996</td>\n",
       "      <td>-0.704977</td>\n",
       "      <td>-0.779518</td>\n",
       "      <td>12.4</td>\n",
       "    </tr>\n",
       "  </tbody>\n",
       "</table>\n",
       "</div>"
      ],
      "text/plain": [
       "      unemployment_rate_2018  ...  diabetes_prevalence\n",
       "2011               -1.019007  ...                 12.6\n",
       "2906                0.178778  ...                 13.5\n",
       "2851               -1.019007  ...                 10.4\n",
       "1884                0.045690  ...                 12.3\n",
       "378                -0.287028  ...                 14.5\n",
       "3111               -1.085551  ...                  8.8\n",
       "1630                0.045690  ...                 11.3\n",
       "2994                1.310019  ...                 15.0\n",
       "566                 1.709280  ...                 14.0\n",
       "456                -0.486658  ...                 12.4\n",
       "\n",
       "[10 rows x 16 columns]"
      ]
     },
     "execution_count": 8,
     "metadata": {},
     "output_type": "execute_result"
    }
   ],
   "source": [
    "# Load cleaned data\n",
    "df = pd.read_csv('../data/processed/demographic_health_processed.csv')\n",
    "df.sample(10)"
   ]
  },
  {
   "cell_type": "code",
   "execution_count": 41,
   "id": "19256599",
   "metadata": {},
   "outputs": [
    {
     "data": {
      "text/plain": [
       "((2512, 16), (628, 16))"
      ]
     },
     "execution_count": 41,
     "metadata": {},
     "output_type": "execute_result"
    }
   ],
   "source": [
    "# Machine Learning\n",
    "df_train, df_test = train_test_split(df, test_size=0.2, random_state=2025)\n",
    "\n",
    "df_train.shape, df_test.shape"
   ]
  },
  {
   "cell_type": "code",
   "execution_count": 42,
   "id": "bff4f5f8",
   "metadata": {},
   "outputs": [
    {
     "data": {
      "text/plain": [
       "(2512, 15)"
      ]
     },
     "execution_count": 42,
     "metadata": {},
     "output_type": "execute_result"
    }
   ],
   "source": [
    "X_train = df_train.drop(columns='diabetes_prevalence')\n",
    "y_train = df_train['diabetes_prevalence']\n",
    "\n",
    "X_test = df_test.drop(columns='diabetes_prevalence')\n",
    "y_test = df_test['diabetes_prevalence']\n",
    "\n",
    "X_train.shape"
   ]
  },
  {
   "cell_type": "code",
   "execution_count": 43,
   "id": "3409c487",
   "metadata": {},
   "outputs": [
    {
     "name": "stdout",
     "output_type": "stream",
     "text": [
      "MSE: 1.0391002580644093\n",
      "MAE: 0.7707929821652741\n",
      "RMSE: 1.0193626724892417\n",
      "R2 score: 0.854826060590048\n"
     ]
    }
   ],
   "source": [
    "lr = LinearRegression()\n",
    "lr.fit(X_train, y_train) # Training\n",
    "\n",
    "y_hat_lr = lr.predict(X_test)\n",
    "\n",
    "print(f'MSE: {mean_squared_error(y_test, y_hat_lr)}') #Prueba, prediccion\n",
    "print(f'MAE: {mean_absolute_error(y_test, y_hat_lr)}')\n",
    "print(f'RMSE: {np.sqrt(mean_squared_error(y_test, y_hat_lr))}')\n",
    "print(f'R2 score: {r2_score(y_test, y_hat_lr)}')"
   ]
  },
  {
   "cell_type": "code",
   "execution_count": 49,
   "id": "1d45cea8",
   "metadata": {},
   "outputs": [
    {
     "name": "stdout",
     "output_type": "stream",
     "text": [
      "MSE: 1.269097260041069\n",
      "MAE: 0.8606670106366467\n",
      "RMSE: 1.126542169668348\n",
      "R2 score: 0.8226929044578122\n"
     ]
    }
   ],
   "source": [
    "lasso = Lasso(alpha=0.2, max_iter=1000, random_state=2025)\n",
    "lasso.fit(X_train, y_train) # Training\n",
    "\n",
    "y_hat_lasso = lasso.predict(X_test)\n",
    "\n",
    "print(f'MSE: {mean_squared_error(y_test, y_hat_lasso)}') #Prueba, prediccion\n",
    "print(f'MAE: {mean_absolute_error(y_test, y_hat_lasso)}')\n",
    "print(f'RMSE: {np.sqrt(mean_squared_error(y_test, y_hat_lasso))}')\n",
    "print(f'R2 score: {r2_score(y_test, y_hat_lasso)}')"
   ]
  },
  {
   "cell_type": "code",
   "execution_count": 45,
   "id": "06000bbd",
   "metadata": {},
   "outputs": [
    {
     "name": "stdout",
     "output_type": "stream",
     "text": [
      "MSE: 1.0390114533393395\n",
      "MAE: 0.7707924845004012\n",
      "RMSE: 1.0193191126135817\n",
      "R2 score: 0.854838467604363\n"
     ]
    }
   ],
   "source": [
    "ridge = Ridge(alpha=0.3, max_iter=10000, random_state=2025)\n",
    "ridge.fit(X_train, y_train) # Training\n",
    "\n",
    "y_hat_ridge = ridge.predict(X_test)\n",
    "\n",
    "print(f'MSE: {mean_squared_error(y_test, y_hat_ridge)}') #Prueba, prediccion\n",
    "print(f'MAE: {mean_absolute_error(y_test, y_hat_ridge)}')\n",
    "print(f'RMSE: {np.sqrt(mean_squared_error(y_test, y_hat_ridge))}')\n",
    "print(f'R2 score: {r2_score(y_test, y_hat_ridge)}')"
   ]
  },
  {
   "cell_type": "markdown",
   "id": "4f10c34f",
   "metadata": {},
   "source": [
    "The baseline model performs well explaining almost 85% of the variance and achieving a relatively low error. \n",
    "\n",
    "Lasso's model underperformed. It has higher errors than the baseline model and lower R2 score, but it is still a good model.\n",
    "\n",
    "Finally, the ridge model had almost an identical performance as the baseline model. This suggest that colinearity was not an important issue. "
   ]
  },
  {
   "cell_type": "code",
   "execution_count": 50,
   "id": "e716922f",
   "metadata": {},
   "outputs": [],
   "source": [
    "# Save models\n",
    "dump(lr, open(\"../models/linear_reg_base_model.sav\", \"wb\"))\n",
    "dump(lasso, open(\"../models/lasso_alpha-0.2.sav\", \"wb\"))\n",
    "dump(ridge, open(\"../models/ridge_alpha-0.3.sav\", \"wb\"))"
   ]
  }
 ],
 "metadata": {
  "kernelspec": {
   "display_name": ".venv",
   "language": "python",
   "name": "python3"
  },
  "language_info": {
   "codemirror_mode": {
    "name": "ipython",
    "version": 3
   },
   "file_extension": ".py",
   "mimetype": "text/x-python",
   "name": "python",
   "nbconvert_exporter": "python",
   "pygments_lexer": "ipython3",
   "version": "3.12.1"
  }
 },
 "nbformat": 4,
 "nbformat_minor": 5
}
